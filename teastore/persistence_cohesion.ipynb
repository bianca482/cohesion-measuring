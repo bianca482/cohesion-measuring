{
 "cells": [
  {
   "cell_type": "markdown",
   "metadata": {},
   "source": [
    "## SCOM Calculation from Logs"
   ]
  },
  {
   "cell_type": "code",
   "execution_count": null,
   "metadata": {},
   "outputs": [],
   "source": [
    "import json\n",
    "\n",
    "file = open(\"../test_data/teastore/persistence_020624.json\")\n",
    "result = json.load(file)\n",
    "file.close()"
   ]
  },
  {
   "cell_type": "markdown",
   "metadata": {},
   "source": [
    "### Extract table names"
   ]
  },
  {
   "cell_type": "code",
   "execution_count": null,
   "metadata": {},
   "outputs": [],
   "source": [
    "import re\n",
    "\n",
    "table_name_pattern = re.compile(\n",
    "    r\"\"\"\n",
    "    (?i)   # Case-insensitive matching\n",
    "    \\bFROM\\s+([`'\"]?[a-zA-Z_][\\w$]*[`'\"]?)|   \n",
    "    \\bJOIN\\s+([`'\"]?[a-zA-Z_][\\w$]*[`'\"]?)|   \n",
    "    \\bINTO\\s+([`'\"]?[a-zA-Z_][\\w$]*[`'\"]?)|  \n",
    "    \\bUPDATE\\s+([`'\"]?[a-zA-Z_][\\w$]*[`'\"]?)| \n",
    "    \\bDELETE\\s+FROM\\s+([`'\"]?[a-zA-Z_][\\w$]*[`'\"]?)  \n",
    "    \"\"\",\n",
    "    re.VERBOSE\n",
    ")\n",
    "\n",
    "def extract_table_names(sql):\n",
    "    matches = table_name_pattern.findall(sql)\n",
    "    #matches = [\n",
    "    #('employees', '', '', '', '', '', ''),\n",
    "    #('', 'customers', '', '', '', '', '')]\n",
    "    # filters out empty matches ('') and flattens result to normal list\n",
    "    return [match for sublist in matches for match in sublist if match]\n"
   ]
  },
  {
   "cell_type": "markdown",
   "metadata": {},
   "source": [
    "### Parse JSON Input"
   ]
  },
  {
   "cell_type": "code",
   "execution_count": null,
   "metadata": {},
   "outputs": [],
   "source": [
    "class Log:\n",
    "    def __init__(self, span_id, reference_tags, tags):\n",
    "        self.span_id = span_id\n",
    "        self.reference_tags = reference_tags\n",
    "        self.tags = tags\n",
    "\n",
    "    def __repr__(self):\n",
    "        return f\"Log(span_id={self.span_id}, reference_tags={self.reference_tags}, tags={self.tags})\"\n",
    "\n",
    "    def to_json(self):\n",
    "        return json.dumps({\n",
    "            'spanId': self.span_id,\n",
    "            'reference_tags': self.reference_tags,\n",
    "            'tags': self.tags\n",
    "        }, indent=2)\n",
    "    \n",
    "    def get_endpoint_name(self):\n",
    "        result = None\n",
    "\n",
    "        for tag in self.reference_tags:\n",
    "            if tag[\"key\"] == \"http.target\":     \n",
    "                result = tag[\"value\"]\n",
    "                endpoint = result.split('?')[0]\n",
    "                endpoint_parts = endpoint.split('/')\n",
    "                result = '/'.join(endpoint_parts[:-1]) + '/'\n",
    "                break\n",
    "        \n",
    "        return result\n",
    "    \n",
    "    def get_db_statement(self):\n",
    "        result = []\n",
    "        \n",
    "        for s in self.tags:\n",
    "            if s[\"key\"] == \"db.statement\":\n",
    "                result.append(s[\"value\"])\n",
    "\n",
    "        if len(result) > 0:\n",
    "            return result\n",
    "        \n",
    "        return None\n",
    "    \n",
    "    def get_table_names(self):\n",
    "        statement = self.get_db_statement()\n",
    "        \n",
    "        if statement is not None:\n",
    "            return extract_table_names(statement[0])\n",
    "        \n",
    "        return None"
   ]
  },
  {
   "cell_type": "code",
   "execution_count": null,
   "metadata": {},
   "outputs": [],
   "source": [
    "logs = []\n",
    "for data in result[\"data\"]:\n",
    "    for log in data[\"spans\"]:\n",
    "        span_id = log['spanID']\n",
    "        tags = log['tags']\n",
    "        for reference in log[\"references\"]:\n",
    "            if \"span\" in reference: \n",
    "                span_obj = Log(span_id=span_id, reference_tags=reference[\"span\"][\"tags\"], tags=tags)\n",
    "                logs.append(span_obj)\n",
    "\n",
    "# Print all Span objects\n",
    "#for log in logs:\n",
    "#    if log.get_table_names() != None:\n",
    "#        print(log.get_endpoint_name())\n",
    "#        print(log.get_table_names())\n"
   ]
  },
  {
   "cell_type": "code",
   "execution_count": null,
   "metadata": {},
   "outputs": [],
   "source": [
    "grouped_logs= {}\n",
    "\n",
    "for log in logs:\n",
    "    endpoint_name = log.get_endpoint_name()\n",
    "\n",
    "    if endpoint_name == None:\n",
    "        continue\n",
    "\n",
    "    if endpoint_name not in grouped_logs:\n",
    "        grouped_logs[endpoint_name] = []\n",
    "\n",
    "    table_names = log.get_table_names()\n",
    "\n",
    "    if table_names is not None:\n",
    "        for name in table_names: \n",
    "            if name in grouped_logs[endpoint_name]:\n",
    "                continue\n",
    "            else: \n",
    "                grouped_logs[endpoint_name].append(name)\n",
    "\n",
    "for operation, group in grouped_logs.items():\n",
    "    print(f\"Operation: {operation}\")\n",
    "    for log in group:\n",
    "        print(f\"  {log}\")\n",
    "\n",
    "print(grouped_logs)"
   ]
  },
  {
   "cell_type": "markdown",
   "metadata": {},
   "source": [
    "### Calculate SCOM"
   ]
  },
  {
   "cell_type": "code",
   "execution_count": null,
   "metadata": {},
   "outputs": [],
   "source": [
    "def calculateConnectionIntensity(i, j):\n",
    "     common_attributes = set(i).intersection(j)\n",
    "     if len(common_attributes) == 0: return 0\n",
    "\n",
    "     return len(common_attributes) / (min(len(set(i)), len(set(j))))\n",
    "\n",
    "def scom(apis):\n",
    "    n_of_apis = len(apis)\n",
    "    if n_of_apis <= 1: return \"Too few endpoints\"\n",
    "\n",
    "    total_weighted_connections = 0\n",
    "\n",
    "    processed_pairs = set()  # Verarbeitete Paare speichern\n",
    "\n",
    "    for i, api1 in enumerate(apis):\n",
    "        for api2 in list(apis.keys())[i + 1:]:\n",
    "            pair_key = tuple(sorted((api1, api2)))\n",
    "            \n",
    "            if pair_key in processed_pairs:\n",
    "                continue  # Überspringen, wenn Paar schon verarbeitet wurde\n",
    "            \n",
    "            connection_intensity = calculateConnectionIntensity(apis[api1], apis[api2])\n",
    "            # Weglassen, da Tabellen, die nur sehr selten aufgerufen werden, nicht berücksichtigt werden sollen\n",
    "            #n_involved_tables = len(set(apis[api1]).union(set(apis[api2])))\n",
    "            #weight = n_involved_tables / number_of_tables\n",
    "            #weighted_connection = connection_intensity * weight\n",
    "            #weighted_connection = connection_intensity * n_involved_tables\n",
    "            #total_weighted_connections += weighted_connection\n",
    "            total_weighted_connections += connection_intensity\n",
    "            processed_pairs.add(pair_key)  # Paar als verarbeitet markieren\n",
    "\n",
    "    return total_weighted_connections / (n_of_apis*(n_of_apis-1) / 2)"
   ]
  },
  {
   "cell_type": "code",
   "execution_count": null,
   "metadata": {},
   "outputs": [],
   "source": [
    "print(f\"Endpoints and used database tables: {grouped_logs}\")"
   ]
  },
  {
   "cell_type": "code",
   "execution_count": null,
   "metadata": {},
   "outputs": [],
   "source": [
    "print(f\"SCOM: {scom(grouped_logs)}\") "
   ]
  },
  {
   "cell_type": "code",
   "execution_count": null,
   "metadata": {},
   "outputs": [],
   "source": []
  },
  {
   "cell_type": "code",
   "execution_count": null,
   "metadata": {},
   "outputs": [],
   "source": []
  }
 ],
 "metadata": {
  "kernelspec": {
   "display_name": "masterarbeit",
   "language": "python",
   "name": "python3"
  },
  "language_info": {
   "codemirror_mode": {
    "name": "ipython",
    "version": 3
   },
   "file_extension": ".py",
   "mimetype": "text/x-python",
   "name": "python",
   "nbconvert_exporter": "python",
   "pygments_lexer": "ipython3",
   "version": "3.12.3"
  }
 },
 "nbformat": 4,
 "nbformat_minor": 2
}

{
 "cells": [
  {
   "cell_type": "markdown",
   "metadata": {},
   "source": [
    "## SCOM Calculation from Logs"
   ]
  },
  {
   "cell_type": "code",
   "execution_count": 1,
   "metadata": {},
   "outputs": [],
   "source": [
    "import json\n",
    "\n",
    "service_name = \"scenario1\"\n",
    "file = open(\"./test_data/scenario1.json\")\n",
    "result = json.load(file)\n",
    "file.close()"
   ]
  },
  {
   "cell_type": "markdown",
   "metadata": {},
   "source": [
    "### Extract table names"
   ]
  },
  {
   "cell_type": "code",
   "execution_count": 2,
   "metadata": {},
   "outputs": [],
   "source": [
    "import re\n",
    "\n",
    "table_name_pattern = re.compile(\n",
    "    r\"\"\"\n",
    "    (?i)   # Case-insensitive matching\n",
    "    \\bFROM\\s+([`'\"]?[a-zA-Z_][\\w$]*[`'\"]?)|   \n",
    "    \\bJOIN\\s+([`'\"]?[a-zA-Z_][\\w$]*[`'\"]?)|   \n",
    "    \\bINTO\\s+([`'\"]?[a-zA-Z_][\\w$]*[`'\"]?)|  \n",
    "    \\bUPDATE\\s+([`'\"]?[a-zA-Z_][\\w$]*[`'\"]?)| \n",
    "    \\bDELETE\\s+FROM\\s+([`'\"]?[a-zA-Z_][\\w$]*[`'\"]?)  \n",
    "    \"\"\",\n",
    "    re.VERBOSE\n",
    ")\n",
    "\n",
    "def extract_table_names(sql):\n",
    "    matches = table_name_pattern.findall(sql)\n",
    "    #matches = [\n",
    "    #('employees', '', '', '', '', '', ''),\n",
    "    #('', 'customers', '', '', '', '', '')]\n",
    "    # filters out empty matches ('') and flattens result to normal list\n",
    "    return [match for sublist in matches for match in sublist if match]\n"
   ]
  },
  {
   "cell_type": "markdown",
   "metadata": {},
   "source": [
    "### Parse JSON Input"
   ]
  },
  {
   "cell_type": "code",
   "execution_count": 3,
   "metadata": {},
   "outputs": [],
   "source": [
    "def is_number(value):\n",
    "   try:\n",
    "        float(value)\n",
    "        return True\n",
    "   except ValueError:\n",
    "        return False\n",
    "\n",
    "class Log:\n",
    "    def __init__(self, span_id, trace_id, parent_id, db_statements, http_target):\n",
    "        self.span_id = span_id\n",
    "        self.trace_id = trace_id\n",
    "        self.parent_id = parent_id\n",
    "        self.db_statements = db_statements\n",
    "        self.http_target = http_target\n",
    "        self.children = []\n",
    "        self.parent_endpoint = \"\"\n",
    "\n",
    "    def __repr__(self):\n",
    "        return f\"Log(span_id={self.span_id}, trace_id={self.trace_id}, parent_id={self.parent_id}, db_statements={self.db_statements}, http_target={self.http_target})\"\n",
    "\n",
    "    def to_json(self):\n",
    "        return json.dumps({\n",
    "            'spanId': self.span_id,\n",
    "            'traceId': self.trace_id,\n",
    "            'parentId': self.parent_id,\n",
    "            'db_statements': self.db_statements,\n",
    "            'http_target': self.http_target\n",
    "        }, indent=2)\n",
    "    \n",
    "    def get_endpoint_name(self):\n",
    "        endpoint_name = self.http_target\n",
    "\n",
    "        if endpoint_name != None:\n",
    "            endpoint =  endpoint_name.split('?')[0]\n",
    "            endpoint_parts = endpoint.split('/')\n",
    "\n",
    "            # if the last part is a number (e.g. /customers/count/9), it should get cut - else (e.g. /customers) \n",
    "            if is_number(endpoint_parts[-1]):\n",
    "                endpoint_name = '/'.join(endpoint_parts[:-1])\n",
    "            else: \n",
    "                endpoint_name = '/'.join(endpoint_parts)\n",
    "\n",
    "            # removes duplicate / and ensures there is exactly one / at the end\n",
    "            endpoint_name = '/'.join(part for part in endpoint_name.split('/') if part) + '/'\n",
    "    \n",
    "        return endpoint_name\n",
    "\n",
    "    def get_db_statement(self):\n",
    "        db_statements = self.db_statements\n",
    "\n",
    "        if len(db_statements) > 0:\n",
    "            return db_statements\n",
    "        \n",
    "        return None\n",
    "\n",
    "    def get_table_names(self):\n",
    "        statement = self.get_db_statement()\n",
    "        \n",
    "        if statement is not None:\n",
    "            return extract_table_names(statement[0])\n",
    "        \n",
    "        return None"
   ]
  },
  {
   "cell_type": "code",
   "execution_count": 4,
   "metadata": {},
   "outputs": [
    {
     "name": "stdout",
     "output_type": "stream",
     "text": [
      "Log(span_id=9eb9be13e922fc0e, trace_id=d72d3bd03f1b13419c124474661a8b5a, parent_id=186e4c8f97c57c94, db_statements=['SELECT * FROM orders'], http_target=/scenario1/orders)\n"
     ]
    }
   ],
   "source": [
    "logs = []\n",
    "\n",
    "for data in result[\"data\"]:\n",
    "    for log in data[\"spans\"]:\n",
    "        parent_id = None\n",
    "        db_statements = []\n",
    "        http_target = None\n",
    "\n",
    "        for tag in log[\"tags\"]:\n",
    "            if \"key\" in tag:\n",
    "                if tag[\"key\"] == \"db.statement\":\n",
    "                    db_statements.append(tag[\"value\"])\n",
    "\n",
    "                if tag[\"key\"] == \"http.target\":\n",
    "                    http_target = tag[\"value\"]\n",
    "        \n",
    "        for reference in log[\"references\"]:\n",
    "            if \"span\" in reference: \n",
    "                for tag in reference[\"span\"][\"tags\"]:\n",
    "                    if tag[\"key\"] == \"db.statement\":\n",
    "                        db_statements.append(tag[\"value\"])\n",
    "\n",
    "                    if tag[\"key\"] == \"http.target\":\n",
    "                        http_target = tag[\"value\"]\n",
    "\n",
    "        if \"references\" in log: \n",
    "            for r in log[\"references\"]:\n",
    "                parent_id = r[\"spanID\"]\n",
    "        \n",
    "        span_obj = Log(\n",
    "            span_id=log['spanID'], \n",
    "            trace_id=log[\"traceID\"], \n",
    "            parent_id = parent_id,\n",
    "            db_statements = db_statements,\n",
    "            http_target = http_target\n",
    "        )\n",
    "\n",
    "        logs.append(span_obj)\n",
    "\n",
    "print(logs[1])\n"
   ]
  },
  {
   "cell_type": "code",
   "execution_count": 5,
   "metadata": {},
   "outputs": [
    {
     "name": "stdout",
     "output_type": "stream",
     "text": [
      "8\n",
      "8\n"
     ]
    }
   ],
   "source": [
    "print(len(logs))\n",
    "\n",
    "for log in logs: \n",
    "    if log.http_target == None:\n",
    "    #if log.db_statements == [] and log.http_target == None:\n",
    "        logs.remove(log)\n",
    "\n",
    "print(len(logs))"
   ]
  },
  {
   "cell_type": "code",
   "execution_count": 6,
   "metadata": {},
   "outputs": [],
   "source": [
    "\"\"\"for log in logs: \n",
    "    endpoint_name = log.get_endpoint_name()\n",
    "\n",
    "    if endpoint_name != None and service_name in endpoint_name:\n",
    "        for l in logs:\n",
    "            if l.trace_id == log.trace_id:\n",
    "                l.parent_endpoint = log.get_endpoint_name()\"\"\"\n",
    "\n",
    "parents = {}\n",
    "\n",
    "# get service parent for each trace id\n",
    "for log in logs: \n",
    "    endpoint_name = log.get_endpoint_name()\n",
    "    if endpoint_name != None and service_name in endpoint_name:\n",
    "        if log.trace_id not in parents.keys():\n",
    "            parents[log.trace_id] = endpoint_name\n",
    "\n",
    "for log in logs:\n",
    "    endpoint_name = log.get_endpoint_name()\n",
    "    if endpoint_name != None:\n",
    "        parent = parents.get(log.trace_id)\n",
    "        if parent:\n",
    "            log.parent_endpoint = parent"
   ]
  },
  {
   "cell_type": "code",
   "execution_count": 7,
   "metadata": {},
   "outputs": [
    {
     "name": "stdout",
     "output_type": "stream",
     "text": [
      "scenario1/orders/\n",
      "None\n",
      "scenario1/orders/\n",
      "['orders']\n",
      "scenario1/orders/\n",
      "['products']\n",
      "scenario1/employees/\n",
      "None\n",
      "scenario1/employees/\n",
      "['customers']\n",
      "scenario1/employees/\n",
      "['employees']\n",
      "scenario1/employees/\n",
      "['employees']\n",
      "scenario1/employees/\n",
      "['customers']\n"
     ]
    }
   ],
   "source": [
    "for log in logs:\n",
    "    print(log.parent_endpoint)\n",
    "    print(log.get_table_names())"
   ]
  },
  {
   "cell_type": "code",
   "execution_count": 8,
   "metadata": {},
   "outputs": [
    {
     "name": "stdout",
     "output_type": "stream",
     "text": [
      "{'scenario1/orders/': {'orders': 1, 'products': 1}, 'scenario1/employees/': {'customers': 2, 'employees': 2}}\n"
     ]
    }
   ],
   "source": [
    "grouped_logs = {}\n",
    "\n",
    "for log in logs: \n",
    "    table_names = log.get_table_names()\n",
    "    if table_names != None and log.parent_endpoint != None:\n",
    "        endpoint_name = log.parent_endpoint\n",
    "\n",
    "        if endpoint_name not in grouped_logs:\n",
    "            grouped_logs[endpoint_name] = []\n",
    "\n",
    "        for name in table_names:\n",
    "            #if name in grouped_logs[endpoint_name]:\n",
    "            #    continue\n",
    "            #else:\n",
    "                grouped_logs[endpoint_name].append(name)\n",
    "                \n",
    "from collections import Counter\n",
    "\n",
    "calls = {}\n",
    "\n",
    "for url, tables in grouped_logs.items():\n",
    "    counter = Counter(tables)\n",
    "    calls[url] = dict(counter)\n",
    "\n",
    "print(calls)"
   ]
  },
  {
   "cell_type": "markdown",
   "metadata": {},
   "source": [
    "### Calculate SCOM"
   ]
  },
  {
   "cell_type": "code",
   "execution_count": 9,
   "metadata": {},
   "outputs": [],
   "source": [
    "def filter_empty_apis(apis):\n",
    "    return {k: v for k, v in apis.items() if v}\n",
    "\n",
    "def calculate_connection_intensity(i, j):\n",
    "     common_tables = set(i).intersection(j)\n",
    "     if len(common_tables) == 0: return 0\n",
    "\n",
    "     return len(common_tables) / (min(len(set(i)), len(set(j))))\n",
    "\n",
    "def scom(grouped_logs):\n",
    "    apis = filter_empty_apis(grouped_logs)\n",
    "\n",
    "    n_of_apis = len(apis)\n",
    "    if n_of_apis <= 1:\n",
    "        return \"Too few endpoints\"\n",
    "\n",
    "    total_weighted_connections = 0 \n",
    "    processed_pairs = set() # Verarbeitete Paare speichern\n",
    "\n",
    "    for i, api1 in enumerate(apis):\n",
    "        for api2 in list(apis.keys())[i + 1:]:\n",
    "            pair_key = tuple(sorted((api1, api2)))\n",
    "            \n",
    "            if pair_key in processed_pairs:\n",
    "                continue  # Überspringen, wenn Paar schon verarbeitet wurde\n",
    "                              \n",
    "            tables1 = set(apis[api1])\n",
    "            tables2 = set(apis[api2])\n",
    "\n",
    "            connection_intensity = calculate_connection_intensity(tables1, tables2)\n",
    "            #n_involved_tables = len(tables1.union(tables2))\n",
    "            #weight = n_involved_tables / n_tables\n",
    "\n",
    "            #weighted_connection = connection_intensity * weight\n",
    "            #weighted_connection = connection_intensity * n_involved_tables\n",
    "            #total_weighted_connections += weighted_connection\n",
    "            total_weighted_connections += connection_intensity\n",
    "            processed_pairs.add(pair_key)  # Paar als verarbeitet markieren\n",
    "\n",
    "    return total_weighted_connections / (n_of_apis*(n_of_apis-1) / 2)"
   ]
  },
  {
   "cell_type": "code",
   "execution_count": 10,
   "metadata": {},
   "outputs": [
    {
     "name": "stdout",
     "output_type": "stream",
     "text": [
      "Endpoints and used database tables: {'scenario1/orders/': ['orders', 'products'], 'scenario1/employees/': ['customers', 'employees', 'employees', 'customers']}\n"
     ]
    }
   ],
   "source": [
    "print(f\"Endpoints and used database tables: {grouped_logs}\")"
   ]
  },
  {
   "cell_type": "code",
   "execution_count": 11,
   "metadata": {},
   "outputs": [
    {
     "name": "stdout",
     "output_type": "stream",
     "text": [
      "SCOM: 0.0\n"
     ]
    }
   ],
   "source": [
    "print(f\"SCOM: {scom(grouped_logs)}\") "
   ]
  },
  {
   "cell_type": "code",
   "execution_count": null,
   "metadata": {},
   "outputs": [],
   "source": []
  }
 ],
 "metadata": {
  "kernelspec": {
   "display_name": "masterarbeit",
   "language": "python",
   "name": "python3"
  },
  "language_info": {
   "codemirror_mode": {
    "name": "ipython",
    "version": 3
   },
   "file_extension": ".py",
   "mimetype": "text/x-python",
   "name": "python",
   "nbconvert_exporter": "python",
   "pygments_lexer": "ipython3",
   "version": "3.12.3"
  }
 },
 "nbformat": 4,
 "nbformat_minor": 2
}
